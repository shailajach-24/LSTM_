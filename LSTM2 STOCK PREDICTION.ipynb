{
 "cells": [
  {
   "cell_type": "code",
   "execution_count": 0,
   "metadata": {
    "colab": {},
    "colab_type": "code",
    "id": "3dT3kLIF1BQ6"
   },
   "outputs": [],
   "source": [
    "# Description: This program uses an artificial recurrent neural network called Long Short Term Memory (LSTM)\n",
    "#              to predict the closing stock price of a corporation (Apple Inc.) using the past 60 day stock price."
   ]
  },
  {
   "cell_type": "code",
   "execution_count": 1,
   "metadata": {
    "colab": {
     "base_uri": "https://localhost:8080/",
     "height": 80
    },
    "colab_type": "code",
    "id": "DjCc3igB1dj2",
    "outputId": "f504e9d9-68ca-4868-83ca-500ccd01f495"
   },
   "outputs": [
    {
     "name": "stderr",
     "output_type": "stream",
     "text": [
      "Using TensorFlow backend.\n"
     ]
    }
   ],
   "source": [
    "#Import the libraries\n",
    "import math\n",
    "import pandas_datareader as web\n",
    "import numpy as np\n",
    "import pandas as pd\n",
    "from sklearn.preprocessing import MinMaxScaler\n",
    "from keras.models import Sequential\n",
    "from keras.layers import Dense, LSTM\n",
    "import matplotlib.pyplot as plt\n",
    "plt.style.use('fivethirtyeight')"
   ]
  },
  {
   "cell_type": "code",
   "execution_count": 2,
   "metadata": {
    "colab": {
     "base_uri": "https://localhost:8080/",
     "height": 448
    },
    "colab_type": "code",
    "id": "anRiueGp1ysF",
    "outputId": "30b73ebd-4df3-4580-896f-712b10a67c23"
   },
   "outputs": [
    {
     "data": {
      "text/html": [
       "<div>\n",
       "<style scoped>\n",
       "    .dataframe tbody tr th:only-of-type {\n",
       "        vertical-align: middle;\n",
       "    }\n",
       "\n",
       "    .dataframe tbody tr th {\n",
       "        vertical-align: top;\n",
       "    }\n",
       "\n",
       "    .dataframe thead th {\n",
       "        text-align: right;\n",
       "    }\n",
       "</style>\n",
       "<table border=\"1\" class=\"dataframe\">\n",
       "  <thead>\n",
       "    <tr style=\"text-align: right;\">\n",
       "      <th></th>\n",
       "      <th>High</th>\n",
       "      <th>Low</th>\n",
       "      <th>Open</th>\n",
       "      <th>Close</th>\n",
       "      <th>Volume</th>\n",
       "      <th>Adj Close</th>\n",
       "    </tr>\n",
       "    <tr>\n",
       "      <th>Date</th>\n",
       "      <th></th>\n",
       "      <th></th>\n",
       "      <th></th>\n",
       "      <th></th>\n",
       "      <th></th>\n",
       "      <th></th>\n",
       "    </tr>\n",
       "  </thead>\n",
       "  <tbody>\n",
       "    <tr>\n",
       "      <td>2012-01-03</td>\n",
       "      <td>58.928570</td>\n",
       "      <td>58.428570</td>\n",
       "      <td>58.485714</td>\n",
       "      <td>58.747143</td>\n",
       "      <td>75555200.0</td>\n",
       "      <td>50.994907</td>\n",
       "    </tr>\n",
       "    <tr>\n",
       "      <td>2012-01-04</td>\n",
       "      <td>59.240002</td>\n",
       "      <td>58.468571</td>\n",
       "      <td>58.571430</td>\n",
       "      <td>59.062859</td>\n",
       "      <td>65005500.0</td>\n",
       "      <td>51.268970</td>\n",
       "    </tr>\n",
       "    <tr>\n",
       "      <td>2012-01-05</td>\n",
       "      <td>59.792858</td>\n",
       "      <td>58.952858</td>\n",
       "      <td>59.278572</td>\n",
       "      <td>59.718571</td>\n",
       "      <td>67817400.0</td>\n",
       "      <td>51.838169</td>\n",
       "    </tr>\n",
       "    <tr>\n",
       "      <td>2012-01-06</td>\n",
       "      <td>60.392857</td>\n",
       "      <td>59.888573</td>\n",
       "      <td>59.967144</td>\n",
       "      <td>60.342857</td>\n",
       "      <td>79573200.0</td>\n",
       "      <td>52.380054</td>\n",
       "    </tr>\n",
       "    <tr>\n",
       "      <td>2012-01-09</td>\n",
       "      <td>61.107143</td>\n",
       "      <td>60.192856</td>\n",
       "      <td>60.785713</td>\n",
       "      <td>60.247143</td>\n",
       "      <td>98506100.0</td>\n",
       "      <td>52.296970</td>\n",
       "    </tr>\n",
       "    <tr>\n",
       "      <td>...</td>\n",
       "      <td>...</td>\n",
       "      <td>...</td>\n",
       "      <td>...</td>\n",
       "      <td>...</td>\n",
       "      <td>...</td>\n",
       "      <td>...</td>\n",
       "    </tr>\n",
       "    <tr>\n",
       "      <td>2020-03-05</td>\n",
       "      <td>299.549988</td>\n",
       "      <td>291.410004</td>\n",
       "      <td>295.519989</td>\n",
       "      <td>292.920013</td>\n",
       "      <td>46893200.0</td>\n",
       "      <td>292.920013</td>\n",
       "    </tr>\n",
       "    <tr>\n",
       "      <td>2020-03-06</td>\n",
       "      <td>290.820007</td>\n",
       "      <td>281.230011</td>\n",
       "      <td>282.000000</td>\n",
       "      <td>289.029999</td>\n",
       "      <td>56544200.0</td>\n",
       "      <td>289.029999</td>\n",
       "    </tr>\n",
       "    <tr>\n",
       "      <td>2020-03-09</td>\n",
       "      <td>278.089996</td>\n",
       "      <td>263.000000</td>\n",
       "      <td>263.750000</td>\n",
       "      <td>266.170013</td>\n",
       "      <td>71686200.0</td>\n",
       "      <td>266.170013</td>\n",
       "    </tr>\n",
       "    <tr>\n",
       "      <td>2020-03-10</td>\n",
       "      <td>286.440002</td>\n",
       "      <td>269.369995</td>\n",
       "      <td>277.140015</td>\n",
       "      <td>285.339996</td>\n",
       "      <td>71322500.0</td>\n",
       "      <td>285.339996</td>\n",
       "    </tr>\n",
       "    <tr>\n",
       "      <td>2020-03-11</td>\n",
       "      <td>281.220001</td>\n",
       "      <td>271.859985</td>\n",
       "      <td>277.390015</td>\n",
       "      <td>275.429993</td>\n",
       "      <td>63899700.0</td>\n",
       "      <td>275.429993</td>\n",
       "    </tr>\n",
       "  </tbody>\n",
       "</table>\n",
       "<p>2060 rows × 6 columns</p>\n",
       "</div>"
      ],
      "text/plain": [
       "                  High         Low        Open       Close      Volume  \\\n",
       "Date                                                                     \n",
       "2012-01-03   58.928570   58.428570   58.485714   58.747143  75555200.0   \n",
       "2012-01-04   59.240002   58.468571   58.571430   59.062859  65005500.0   \n",
       "2012-01-05   59.792858   58.952858   59.278572   59.718571  67817400.0   \n",
       "2012-01-06   60.392857   59.888573   59.967144   60.342857  79573200.0   \n",
       "2012-01-09   61.107143   60.192856   60.785713   60.247143  98506100.0   \n",
       "...                ...         ...         ...         ...         ...   \n",
       "2020-03-05  299.549988  291.410004  295.519989  292.920013  46893200.0   \n",
       "2020-03-06  290.820007  281.230011  282.000000  289.029999  56544200.0   \n",
       "2020-03-09  278.089996  263.000000  263.750000  266.170013  71686200.0   \n",
       "2020-03-10  286.440002  269.369995  277.140015  285.339996  71322500.0   \n",
       "2020-03-11  281.220001  271.859985  277.390015  275.429993  63899700.0   \n",
       "\n",
       "             Adj Close  \n",
       "Date                    \n",
       "2012-01-03   50.994907  \n",
       "2012-01-04   51.268970  \n",
       "2012-01-05   51.838169  \n",
       "2012-01-06   52.380054  \n",
       "2012-01-09   52.296970  \n",
       "...                ...  \n",
       "2020-03-05  292.920013  \n",
       "2020-03-06  289.029999  \n",
       "2020-03-09  266.170013  \n",
       "2020-03-10  285.339996  \n",
       "2020-03-11  275.429993  \n",
       "\n",
       "[2060 rows x 6 columns]"
      ]
     },
     "execution_count": 2,
     "metadata": {},
     "output_type": "execute_result"
    }
   ],
   "source": [
    "#Get the stock quote\n",
    "df = web.DataReader('AAPL', data_source='yahoo', start='2012-01-01', end='2020-03-12')\n",
    "#Show teh data\n",
    "df"
   ]
  },
  {
   "cell_type": "code",
   "execution_count": 3,
   "metadata": {
    "colab": {
     "base_uri": "https://localhost:8080/",
     "height": 34
    },
    "colab_type": "code",
    "id": "hu-kI33A2MJ7",
    "outputId": "3083e004-853b-4d0d-ee27-c3db702bd69a"
   },
   "outputs": [
    {
     "data": {
      "text/plain": [
       "(2060, 6)"
      ]
     },
     "execution_count": 3,
     "metadata": {},
     "output_type": "execute_result"
    }
   ],
   "source": [
    "#Get the number of rows and columns in the data set\n",
    "df.shape"
   ]
  },
  {
   "cell_type": "code",
   "execution_count": 4,
   "metadata": {
    "colab": {
     "base_uri": "https://localhost:8080/",
     "height": 681
    },
    "colab_type": "code",
    "id": "RGmmHqq02R7b",
    "outputId": "7a415277-4e50-4293-a315-7afed1b73c0e"
   },
   "outputs": [
    {
     "name": "stderr",
     "output_type": "stream",
     "text": [
      "C:\\Users\\dell\\Anaconda3\\lib\\site-packages\\pandas\\plotting\\_matplotlib\\converter.py:103: FutureWarning: Using an implicitly registered datetime converter for a matplotlib plotting method. The converter was registered by pandas on import. Future versions of pandas will require you to explicitly register matplotlib converters.\n",
      "\n",
      "To register the converters:\n",
      "\t>>> from pandas.plotting import register_matplotlib_converters\n",
      "\t>>> register_matplotlib_converters()\n",
      "  warnings.warn(msg, FutureWarning)\n"
     ]
    },
    {
     "data": {
      "image/png": "[encoded data removed]",
      "text/plain": [
       "<Figure size 1152x576 with 1 Axes>"
      ]
     },
     "metadata": {
      "needs_background": "light"
     },
     "output_type": "display_data"
    }
   ],
   "source": [
    "#Visualize the closing price history\n",
    "plt.figure(figsize=(16,8))\n",
    "plt.title('Close Price History')\n",
    "plt.plot(df['Close'])\n",
    "plt.xlabel('Date', fontsize=18)\n",
    "plt.ylabel('Close Price USD ($)', fontsize=18)\n",
    "plt.show()"
   ]
  },
  {
   "cell_type": "code",
   "execution_count": 5,
   "metadata": {
    "colab": {
     "base_uri": "https://localhost:8080/",
     "height": 34
    },
    "colab_type": "code",
    "id": "WRHDMRdD3Adr",
    "outputId": "c15ac9d0-b9ae-49a3-e279-b883002e56d6"
   },
   "outputs": [
    {
     "data": {
      "text/plain": [
       "1648"
      ]
     },
     "execution_count": 5,
     "metadata": {},
     "output_type": "execute_result"
    }
   ],
   "source": [
    "#Create a new dataframe with only the 'Close column\n",
    "data = df.filter(['Close'])\n",
    "#Convert the dataframe to a numpy array\n",
    "dataset = data.values\n",
    "#Get the number of rows to train the model on\n",
    "training_data_len = math.ceil( len(dataset) * .8 )\n",
    "\n",
    "training_data_len"
   ]
  },
  {
   "cell_type": "code",
   "execution_count": 6,
   "metadata": {
    "colab": {
     "base_uri": "https://localhost:8080/",
     "height": 137
    },
    "colab_type": "code",
    "id": "1L_RNTDu3gd5",
    "outputId": "af8180fe-b4d3-44aa-c727-f7f1e207009e"
   },
   "outputs": [
    {
     "data": {
      "text/plain": [
       "array([[0.01089548],\n",
       "       [0.01205872],\n",
       "       [0.01447467],\n",
       "       ...,\n",
       "       [0.77513726],\n",
       "       [0.84576834],\n",
       "       [0.80925531]])"
      ]
     },
     "execution_count": 6,
     "metadata": {},
     "output_type": "execute_result"
    }
   ],
   "source": [
    "#Scale the data\n",
    "scaler = MinMaxScaler(feature_range=(0,1))\n",
    "scaled_data = scaler.fit_transform(dataset)\n",
    "\n",
    "scaled_data"
   ]
  },
  {
   "cell_type": "code",
   "execution_count": 7,
   "metadata": {
    "colab": {
     "base_uri": "https://localhost:8080/",
     "height": 706
    },
    "colab_type": "code",
    "id": "iWWqVFb_3-3n",
    "outputId": "93ecb208-bf0c-4a72-c72a-8792475a24e4"
   },
   "outputs": [
    {
     "name": "stdout",
     "output_type": "stream",
     "text": [
      "[array([0.01089548, 0.01205872, 0.01447467, 0.01677483, 0.01642217,\n",
      "       0.01721696, 0.01685378, 0.01624321, 0.01541158, 0.01798544,\n",
      "       0.02030665, 0.01959081, 0.01566949, 0.01941185, 0.01572739,\n",
      "       0.02954412, 0.02847562, 0.02987047, 0.03288645, 0.03471289,\n",
      "       0.03456025, 0.03399706, 0.03639722, 0.03865526, 0.04121335,\n",
      "       0.04534521, 0.05402475, 0.05415633, 0.05898825, 0.06259901,\n",
      "       0.05639331, 0.05878296, 0.0587356 , 0.06543606, 0.06448335,\n",
      "       0.06624662, 0.06941526, 0.07117856, 0.07625785, 0.07995811,\n",
      "       0.08102658, 0.0814003 , 0.07507357, 0.07354712, 0.07377347,\n",
      "       0.07972122, 0.08139505, 0.08499001, 0.09346428, 0.10477032,\n",
      "       0.10265438, 0.10265964, 0.11083389, 0.11339195, 0.11157078,\n",
      "       0.10990752, 0.10817582, 0.11392883, 0.11787649, 0.11952923])]\n",
      "[0.11544472908538655]\n",
      "\n",
      "[array([0.01089548, 0.01205872, 0.01447467, 0.01677483, 0.01642217,\n",
      "       0.01721696, 0.01685378, 0.01624321, 0.01541158, 0.01798544,\n",
      "       0.02030665, 0.01959081, 0.01566949, 0.01941185, 0.01572739,\n",
      "       0.02954412, 0.02847562, 0.02987047, 0.03288645, 0.03471289,\n",
      "       0.03456025, 0.03399706, 0.03639722, 0.03865526, 0.04121335,\n",
      "       0.04534521, 0.05402475, 0.05415633, 0.05898825, 0.06259901,\n",
      "       0.05639331, 0.05878296, 0.0587356 , 0.06543606, 0.06448335,\n",
      "       0.06624662, 0.06941526, 0.07117856, 0.07625785, 0.07995811,\n",
      "       0.08102658, 0.0814003 , 0.07507357, 0.07354712, 0.07377347,\n",
      "       0.07972122, 0.08139505, 0.08499001, 0.09346428, 0.10477032,\n",
      "       0.10265438, 0.10265964, 0.11083389, 0.11339195, 0.11157078,\n",
      "       0.10990752, 0.10817582, 0.11392883, 0.11787649, 0.11952923]), array([0.01205872, 0.01447467, 0.01677483, 0.01642217, 0.01721696,\n",
      "       0.01685378, 0.01624321, 0.01541158, 0.01798544, 0.02030665,\n",
      "       0.01959081, 0.01566949, 0.01941185, 0.01572739, 0.02954412,\n",
      "       0.02847562, 0.02987047, 0.03288645, 0.03471289, 0.03456025,\n",
      "       0.03399706, 0.03639722, 0.03865526, 0.04121335, 0.04534521,\n",
      "       0.05402475, 0.05415633, 0.05898825, 0.06259901, 0.05639331,\n",
      "       0.05878296, 0.0587356 , 0.06543606, 0.06448335, 0.06624662,\n",
      "       0.06941526, 0.07117856, 0.07625785, 0.07995811, 0.08102658,\n",
      "       0.0814003 , 0.07507357, 0.07354712, 0.07377347, 0.07972122,\n",
      "       0.08139505, 0.08499001, 0.09346428, 0.10477032, 0.10265438,\n",
      "       0.10265964, 0.11083389, 0.11339195, 0.11157078, 0.10990752,\n",
      "       0.10817582, 0.11392883, 0.11787649, 0.11952923, 0.11544473])]\n",
      "[0.11544472908538655, 0.11001805153856642]\n",
      "\n"
     ]
    }
   ],
   "source": [
    "#Create the training data set\n",
    "#Create the scaled training data set\n",
    "train_data = scaled_data[0:training_data_len , :]\n",
    "#Split the data into x_train and y_train data sets\n",
    "x_train = []\n",
    "y_train = []\n",
    "\n",
    "for i in range(60, len(train_data)):\n",
    "  x_train.append(train_data[i-60:i, 0])\n",
    "  y_train.append(train_data[i, 0])\n",
    "  if i<= 61:\n",
    "    print(x_train)\n",
    "    print(y_train)\n",
    "    print()"
   ]
  },
  {
   "cell_type": "code",
   "execution_count": 8,
   "metadata": {
    "colab": {},
    "colab_type": "code",
    "id": "DBf5XSfM5RZN"
   },
   "outputs": [],
   "source": [
    "#Convert the x_train and y_train to numpy arrays \n",
    "x_train, y_train = np.array(x_train), np.array(y_train)"
   ]
  },
  {
   "cell_type": "code",
   "execution_count": 9,
   "metadata": {
    "colab": {
     "base_uri": "https://localhost:8080/",
     "height": 34
    },
    "colab_type": "code",
    "id": "orKF9Ghv5a-E",
    "outputId": "fc063fa0-0835-48d0-b05c-41ef5b7f4d7e"
   },
   "outputs": [
    {
     "data": {
      "text/plain": [
       "(1588, 60, 1)"
      ]
     },
     "execution_count": 9,
     "metadata": {},
     "output_type": "execute_result"
    }
   ],
   "source": [
    "#Reshape the data\n",
    "x_train = np.reshape(x_train, (x_train.shape[0], x_train.shape[1], 1))\n",
    "x_train.shape"
   ]
  },
  {
   "cell_type": "code",
   "execution_count": 10,
   "metadata": {
    "colab": {
     "base_uri": "https://localhost:8080/",
     "height": 140
    },
    "colab_type": "code",
    "id": "RJHjLt6t52Ac",
    "outputId": "f083eec5-91b3-4499-b80c-da35938a1a2b"
   },
   "outputs": [],
   "source": [
    "#Build the LSTM model\n",
    "model = Sequential()\n",
    "model.add(LSTM(50, return_sequences=True, input_shape= (x_train.shape[1], 1)))\n",
    "model.add(LSTM(50, return_sequences= False))\n",
    "model.add(Dense(25))\n",
    "model.add(Dense(1))"
   ]
  },
  {
   "cell_type": "code",
   "execution_count": 11,
   "metadata": {
    "colab": {
     "base_uri": "https://localhost:8080/",
     "height": 71
    },
    "colab_type": "code",
    "id": "_yhADCRm6YEj",
    "outputId": "2b6e9066-2576-444b-c83b-d33b6d113cff"
   },
   "outputs": [],
   "source": [
    "#Compile the model\n",
    "model.compile(optimizer='adam', loss='mean_squared_error')"
   ]
  },
  {
   "cell_type": "code",
   "execution_count": 12,
   "metadata": {
    "colab": {
     "base_uri": "https://localhost:8080/",
     "height": 414
    },
    "colab_type": "code",
    "id": "_2Qi1brn6i5L",
    "outputId": "d5662eca-1566-4fe0-e9f5-dbaa70caff67"
   },
   "outputs": [
    {
     "name": "stdout",
     "output_type": "stream",
     "text": [
      "Epoch 1/1\n",
      "1588/1588 [==============================] - 112s 70ms/step - loss: 5.8343e-04\n"
     ]
    },
    {
     "data": {
      "text/plain": [
       "<keras.callbacks.callbacks.History at 0x1922342a208>"
      ]
     },
     "execution_count": 12,
     "metadata": {},
     "output_type": "execute_result"
    }
   ],
   "source": [
    "#Train the model\n",
    "model.fit(x_train, y_train, batch_size=1, epochs=1)"
   ]
  },
  {
   "cell_type": "code",
   "execution_count": 13,
   "metadata": {
    "colab": {},
    "colab_type": "code",
    "id": "iiui_Nn97Wk9"
   },
   "outputs": [],
   "source": [
    "#Create the testing data set\n",
    "#Create a new array containing scaled values from index 1543 to 2002 \n",
    "test_data = scaled_data[training_data_len - 60: , :]\n",
    "#Create the data sets x_test and y_test\n",
    "x_test = []\n",
    "y_test = dataset[training_data_len:, :]\n",
    "for i in range(60, len(test_data)):\n",
    "  x_test.append(test_data[i-60:i, 0])\n",
    "  "
   ]
  },
  {
   "cell_type": "code",
   "execution_count": 15,
   "metadata": {
    "colab": {},
    "colab_type": "code",
    "id": "1BjgzNH28HWp"
   },
   "outputs": [
    {
     "data": {
      "text/plain": [
       "array([[0.39950627, 0.39250581, 0.40333808, ..., 0.49596547, 0.50141851,\n",
       "        0.49979734],\n",
       "       [0.39250581, 0.40333808, 0.41748646, ..., 0.50141851, 0.49979734,\n",
       "        0.50042369],\n",
       "       [0.40333808, 0.41748646, 0.4450094 , ..., 0.49979734, 0.50042369,\n",
       "        0.50554509],\n",
       "       ...,\n",
       "       [0.78364836, 0.7920857 , 0.79462799, ..., 0.90987797, 0.87369663,\n",
       "        0.85936402],\n",
       "       [0.7920857 , 0.79462799, 0.80822366, ..., 0.87369663, 0.85936402,\n",
       "        0.77513726],\n",
       "       [0.79462799, 0.80822366, 0.82557745, ..., 0.85936402, 0.77513726,\n",
       "        0.84576834]])"
      ]
     },
     "execution_count": 15,
     "metadata": {},
     "output_type": "execute_result"
    }
   ],
   "source": [
    "#Convert the data to a numpy array\n",
    "x_test = np.array(x_test)\n",
    "x_test"
   ]
  },
  {
   "cell_type": "code",
   "execution_count": 16,
   "metadata": {
    "colab": {},
    "colab_type": "code",
    "id": "kMV34hpZ8Qlj"
   },
   "outputs": [
    {
     "data": {
      "text/plain": [
       "array([[[0.39950627],\n",
       "        [0.39250581],\n",
       "        [0.40333808],\n",
       "        ...,\n",
       "        [0.49596547],\n",
       "        [0.50141851],\n",
       "        [0.49979734]],\n",
       "\n",
       "       [[0.39250581],\n",
       "        [0.40333808],\n",
       "        [0.41748646],\n",
       "        ...,\n",
       "        [0.50141851],\n",
       "        [0.49979734],\n",
       "        [0.50042369]],\n",
       "\n",
       "       [[0.40333808],\n",
       "        [0.41748646],\n",
       "        [0.4450094 ],\n",
       "        ...,\n",
       "        [0.49979734],\n",
       "        [0.50042369],\n",
       "        [0.50554509]],\n",
       "\n",
       "       ...,\n",
       "\n",
       "       [[0.78364836],\n",
       "        [0.7920857 ],\n",
       "        [0.79462799],\n",
       "        ...,\n",
       "        [0.90987797],\n",
       "        [0.87369663],\n",
       "        [0.85936402]],\n",
       "\n",
       "       [[0.7920857 ],\n",
       "        [0.79462799],\n",
       "        [0.80822366],\n",
       "        ...,\n",
       "        [0.87369663],\n",
       "        [0.85936402],\n",
       "        [0.77513726]],\n",
       "\n",
       "       [[0.79462799],\n",
       "        [0.80822366],\n",
       "        [0.82557745],\n",
       "        ...,\n",
       "        [0.85936402],\n",
       "        [0.77513726],\n",
       "        [0.84576834]]])"
      ]
     },
     "execution_count": 16,
     "metadata": {},
     "output_type": "execute_result"
    }
   ],
   "source": [
    "#Reshape the data\n",
    "x_test = np.reshape(x_test, (x_test.shape[0], x_test.shape[1], 1 ))\n",
    "x_test"
   ]
  },
  {
   "cell_type": "code",
   "execution_count": 17,
   "metadata": {
    "colab": {},
    "colab_type": "code",
    "id": "M2MrVjoK8oXD"
   },
   "outputs": [
    {
     "data": {
      "text/plain": [
       "array([[190.57   ],\n",
       "       [190.77095],\n",
       "       [191.06915],\n",
       "       [191.57816],\n",
       "       [192.08165],\n",
       "       [192.19052],\n",
       "       [191.96486],\n",
       "       [191.6201 ],\n",
       "       [192.42636],\n",
       "       [194.37799],\n",
       "       [196.80832],\n",
       "       [199.35757],\n",
       "       [201.48851],\n",
       "       [203.179  ],\n",
       "       [204.61632],\n",
       "       [205.61366],\n",
       "       [206.40929],\n",
       "       [207.09946],\n",
       "       [207.70935],\n",
       "       [208.53609],\n",
       "       [209.83685],\n",
       "       [211.02496],\n",
       "       [211.9879 ],\n",
       "       [212.72627],\n",
       "       [213.30913],\n",
       "       [213.81494],\n",
       "       [214.41226],\n",
       "       [215.17857],\n",
       "       [216.29926],\n",
       "       [217.70299],\n",
       "       [219.38187],\n",
       "       [221.10138],\n",
       "       [222.4991 ],\n",
       "       [223.17636],\n",
       "       [223.20827],\n",
       "       [222.57532],\n",
       "       [222.24173],\n",
       "       [221.7974 ],\n",
       "       [221.91887],\n",
       "       [222.04974],\n",
       "       [221.55276],\n",
       "       [220.82343],\n",
       "       [220.05634],\n",
       "       [219.52702],\n",
       "       [218.93063],\n",
       "       [218.70221],\n",
       "       [218.83842],\n",
       "       [218.96991],\n",
       "       [219.57036],\n",
       "       [220.43182],\n",
       "       [221.50304],\n",
       "       [222.78262],\n",
       "       [224.32686],\n",
       "       [225.40842],\n",
       "       [225.74211],\n",
       "       [225.58641],\n",
       "       [225.5082 ],\n",
       "       [224.35881],\n",
       "       [222.58292],\n",
       "       [221.46921],\n",
       "       [220.30995],\n",
       "       [219.77678],\n",
       "       [219.52681],\n",
       "       [218.91695],\n",
       "       [218.53941],\n",
       "       [218.45845],\n",
       "       [218.76508],\n",
       "       [218.43716],\n",
       "       [218.31946],\n",
       "       [217.94133],\n",
       "       [217.04364],\n",
       "       [216.08142],\n",
       "       [215.76974],\n",
       "       [216.18686],\n",
       "       [215.39224],\n",
       "       [213.4423 ],\n",
       "       [211.30954],\n",
       "       [209.9464 ],\n",
       "       [208.97992],\n",
       "       [207.91785],\n",
       "       [205.8402 ],\n",
       "       [203.2482 ],\n",
       "       [200.07597],\n",
       "       [197.42021],\n",
       "       [195.53877],\n",
       "       [193.47165],\n",
       "       [190.60637],\n",
       "       [187.60052],\n",
       "       [184.35632],\n",
       "       [181.5753 ],\n",
       "       [179.29466],\n",
       "       [178.23412],\n",
       "       [177.79926],\n",
       "       [177.65768],\n",
       "       [178.34647],\n",
       "       [178.55168],\n",
       "       [178.27473],\n",
       "       [177.10365],\n",
       "       [175.68604],\n",
       "       [174.17288],\n",
       "       [172.81615],\n",
       "       [171.88042],\n",
       "       [170.69897],\n",
       "       [169.3531 ],\n",
       "       [168.27852],\n",
       "       [166.91844],\n",
       "       [165.12617],\n",
       "       [162.64825],\n",
       "       [159.64919],\n",
       "       [157.75279],\n",
       "       [156.54279],\n",
       "       [155.85417],\n",
       "       [155.68317],\n",
       "       [155.83191],\n",
       "       [154.50244],\n",
       "       [153.13898],\n",
       "       [151.84782],\n",
       "       [151.02531],\n",
       "       [150.81187],\n",
       "       [151.00821],\n",
       "       [151.25418],\n",
       "       [151.26349],\n",
       "       [151.4584 ],\n",
       "       [151.92407],\n",
       "       [152.58496],\n",
       "       [153.38377],\n",
       "       [153.80725],\n",
       "       [154.04492],\n",
       "       [154.02394],\n",
       "       [154.38846],\n",
       "       [154.77069],\n",
       "       [154.95744],\n",
       "       [156.11781],\n",
       "       [157.8089 ],\n",
       "       [159.62822],\n",
       "       [161.82126],\n",
       "       [164.29015],\n",
       "       [166.65492],\n",
       "       [168.36703],\n",
       "       [169.48529],\n",
       "       [170.0534 ],\n",
       "       [170.41199],\n",
       "       [170.54144],\n",
       "       [170.59906],\n",
       "       [170.5719 ],\n",
       "       [170.55658],\n",
       "       [170.6652 ],\n",
       "       [170.72911],\n",
       "       [170.9648 ],\n",
       "       [171.40036],\n",
       "       [171.9108 ],\n",
       "       [172.46684],\n",
       "       [172.80913],\n",
       "       [173.19153],\n",
       "       [173.64513],\n",
       "       [174.05687],\n",
       "       [174.29811],\n",
       "       [174.2103 ],\n",
       "       [173.99661],\n",
       "       [174.36324],\n",
       "       [175.21402],\n",
       "       [176.32706],\n",
       "       [177.67976],\n",
       "       [179.26955],\n",
       "       [181.01765],\n",
       "       [182.50833],\n",
       "       [183.87341],\n",
       "       [185.74962],\n",
       "       [187.27066],\n",
       "       [188.20221],\n",
       "       [188.50848],\n",
       "       [188.61809],\n",
       "       [188.63086],\n",
       "       [188.72046],\n",
       "       [188.97836],\n",
       "       [189.59386],\n",
       "       [190.47717],\n",
       "       [191.44922],\n",
       "       [192.50523],\n",
       "       [193.81946],\n",
       "       [195.0666 ],\n",
       "       [196.26509],\n",
       "       [197.13068],\n",
       "       [197.71732],\n",
       "       [198.12651],\n",
       "       [198.39691],\n",
       "       [198.97327],\n",
       "       [199.72566],\n",
       "       [200.56648],\n",
       "       [201.67755],\n",
       "       [202.77817],\n",
       "       [203.55934],\n",
       "       [203.98326],\n",
       "       [204.20078],\n",
       "       [203.8654 ],\n",
       "       [204.31424],\n",
       "       [204.97565],\n",
       "       [205.96675],\n",
       "       [206.6817 ],\n",
       "       [206.58467],\n",
       "       [206.07095],\n",
       "       [205.15123],\n",
       "       [203.74007],\n",
       "       [201.0107 ],\n",
       "       [198.18912],\n",
       "       [195.84314],\n",
       "       [193.91586],\n",
       "       [192.31519],\n",
       "       [190.44534],\n",
       "       [189.00807],\n",
       "       [187.548  ],\n",
       "       [185.91086],\n",
       "       [184.2815 ],\n",
       "       [182.7499 ],\n",
       "       [181.34502],\n",
       "       [180.2557 ],\n",
       "       [179.11336],\n",
       "       [177.88197],\n",
       "       [177.397  ],\n",
       "       [177.66566],\n",
       "       [178.59995],\n",
       "       [180.3163 ],\n",
       "       [182.52814],\n",
       "       [185.00783],\n",
       "       [187.29967],\n",
       "       [189.23822],\n",
       "       [190.62387],\n",
       "       [191.67928],\n",
       "       [192.91696],\n",
       "       [194.05212],\n",
       "       [195.1808 ],\n",
       "       [196.11026],\n",
       "       [196.81181],\n",
       "       [196.99586],\n",
       "       [197.32915],\n",
       "       [197.69203],\n",
       "       [197.84328],\n",
       "       [198.2508 ],\n",
       "       [198.87175],\n",
       "       [199.72066],\n",
       "       [200.58276],\n",
       "       [200.91743],\n",
       "       [201.06633],\n",
       "       [201.30319],\n",
       "       [201.40334],\n",
       "       [201.58748],\n",
       "       [201.99678],\n",
       "       [202.40813],\n",
       "       [202.65886],\n",
       "       [203.04204],\n",
       "       [203.127  ],\n",
       "       [203.53754],\n",
       "       [204.24182],\n",
       "       [205.0125 ],\n",
       "       [205.5649 ],\n",
       "       [206.019  ],\n",
       "       [206.57304],\n",
       "       [207.02298],\n",
       "       [207.8216 ],\n",
       "       [208.22787],\n",
       "       [207.92403],\n",
       "       [206.14586],\n",
       "       [204.16362],\n",
       "       [202.48213],\n",
       "       [201.60556],\n",
       "       [200.99951],\n",
       "       [200.56284],\n",
       "       [201.16257],\n",
       "       [201.58926],\n",
       "       [201.78702],\n",
       "       [202.3399 ],\n",
       "       [203.42136],\n",
       "       [204.6703 ],\n",
       "       [206.11975],\n",
       "       [207.4984 ],\n",
       "       [207.65268],\n",
       "       [207.55138],\n",
       "       [207.05966],\n",
       "       [206.55888],\n",
       "       [206.47113],\n",
       "       [206.58318],\n",
       "       [206.47488],\n",
       "       [206.63448],\n",
       "       [207.3452 ],\n",
       "       [208.27037],\n",
       "       [209.31203],\n",
       "       [210.57057],\n",
       "       [212.53398],\n",
       "       [214.60123],\n",
       "       [216.04718],\n",
       "       [217.13062],\n",
       "       [217.9779 ],\n",
       "       [218.82161],\n",
       "       [219.37622],\n",
       "       [219.37885],\n",
       "       [219.19455],\n",
       "       [218.81467],\n",
       "       [218.72786],\n",
       "       [218.68132],\n",
       "       [218.55507],\n",
       "       [218.94771],\n",
       "       [219.63243],\n",
       "       [219.80847],\n",
       "       [219.90254],\n",
       "       [220.58871],\n",
       "       [221.51212],\n",
       "       [222.18752],\n",
       "       [222.942  ],\n",
       "       [223.97293],\n",
       "       [225.68242],\n",
       "       [227.52411],\n",
       "       [229.18382],\n",
       "       [230.46533],\n",
       "       [231.50035],\n",
       "       [232.40482],\n",
       "       [233.57104],\n",
       "       [234.68279],\n",
       "       [235.9895 ],\n",
       "       [237.29251],\n",
       "       [238.76959],\n",
       "       [240.43236],\n",
       "       [241.39842],\n",
       "       [241.89978],\n",
       "       [242.67487],\n",
       "       [244.24149],\n",
       "       [246.22293],\n",
       "       [248.17221],\n",
       "       [249.90536],\n",
       "       [251.56273],\n",
       "       [253.06421],\n",
       "       [254.53313],\n",
       "       [255.79147],\n",
       "       [257.06613],\n",
       "       [258.00803],\n",
       "       [259.00595],\n",
       "       [260.05466],\n",
       "       [260.9274 ],\n",
       "       [261.28778],\n",
       "       [261.22177],\n",
       "       [260.91385],\n",
       "       [260.99606],\n",
       "       [261.04373],\n",
       "       [261.4553 ],\n",
       "       [261.9431 ],\n",
       "       [262.09775],\n",
       "       [261.57263],\n",
       "       [260.99933],\n",
       "       [260.85776],\n",
       "       [261.49255],\n",
       "       [262.05966],\n",
       "       [262.7121 ],\n",
       "       [263.5734 ],\n",
       "       [264.51605],\n",
       "       [265.78616],\n",
       "       [267.57422],\n",
       "       [269.4832 ],\n",
       "       [271.17484],\n",
       "       [272.59445],\n",
       "       [273.64725],\n",
       "       [274.86847],\n",
       "       [276.05307],\n",
       "       [277.6809 ],\n",
       "       [279.33047],\n",
       "       [280.99216],\n",
       "       [282.69193],\n",
       "       [284.91708],\n",
       "       [286.839  ],\n",
       "       [288.6488 ],\n",
       "       [290.03723],\n",
       "       [291.55573],\n",
       "       [293.62552],\n",
       "       [295.80246],\n",
       "       [298.4854 ],\n",
       "       [300.65817],\n",
       "       [302.19852],\n",
       "       [303.64224],\n",
       "       [305.21585],\n",
       "       [306.44083],\n",
       "       [307.47488],\n",
       "       [308.4462 ],\n",
       "       [309.17297],\n",
       "       [308.72052],\n",
       "       [308.65457],\n",
       "       [309.44632],\n",
       "       [310.5257 ],\n",
       "       [310.15045],\n",
       "       [309.03543],\n",
       "       [308.71457],\n",
       "       [309.06802],\n",
       "       [310.12415],\n",
       "       [310.88132],\n",
       "       [311.58337],\n",
       "       [311.96643],\n",
       "       [312.93668],\n",
       "       [313.82614],\n",
       "       [314.5965 ],\n",
       "       [314.59872],\n",
       "       [314.70578],\n",
       "       [314.48444],\n",
       "       [313.37955],\n",
       "       [310.42035],\n",
       "       [305.82956],\n",
       "       [301.4051 ],\n",
       "       [295.5253 ],\n",
       "       [289.6017 ],\n",
       "       [286.9698 ],\n",
       "       [285.27188],\n",
       "       [285.7326 ],\n",
       "       [286.20737],\n",
       "       [286.27878],\n",
       "       [283.7371 ],\n",
       "       [282.19342]], dtype=float32)"
      ]
     },
     "execution_count": 17,
     "metadata": {},
     "output_type": "execute_result"
    }
   ],
   "source": [
    "#Get the models predicted price values \n",
    "predictions = model.predict(x_test)\n",
    "predictions = scaler.inverse_transform(predictions)\n",
    "predictions"
   ]
  },
  {
   "cell_type": "code",
   "execution_count": 18,
   "metadata": {
    "colab": {
     "base_uri": "https://localhost:8080/",
     "height": 34
    },
    "colab_type": "code",
    "id": "IlQbSPMU9DjO",
    "outputId": "6c5186cd-3bc0-4889-9ae6-77ab6a3a8e8d"
   },
   "outputs": [
    {
     "data": {
      "text/plain": [
       "7.520997494164419"
      ]
     },
     "execution_count": 18,
     "metadata": {},
     "output_type": "execute_result"
    }
   ],
   "source": [
    "#Get the root mean squared error (RMSE)\n",
    "rmse=np.sqrt(np.mean(((predictions- y_test)**2)))\n",
    "rmse"
   ]
  },
  {
   "cell_type": "code",
   "execution_count": 19,
   "metadata": {
    "colab": {
     "base_uri": "https://localhost:8080/",
     "height": 681
    },
    "colab_type": "code",
    "id": "FdI9uOr69oGs",
    "outputId": "18e5e82a-da79-45b8-b0b9-fcd214918a5f"
   },
   "outputs": [
    {
     "name": "stderr",
     "output_type": "stream",
     "text": [
      "C:\\Users\\dell\\Anaconda3\\lib\\site-packages\\ipykernel_launcher.py:4: SettingWithCopyWarning: \n",
      "A value is trying to be set on a copy of a slice from a DataFrame.\n",
      "Try using .loc[row_indexer,col_indexer] = value instead\n",
      "\n",
      "See the caveats in the documentation: http://pandas.pydata.org/pandas-docs/stable/user_guide/indexing.html#returning-a-view-versus-a-copy\n",
      "  after removing the cwd from sys.path.\n"
     ]
    },
    {
     "data": {
      "image/png": "[encoded data removed]",
      "text/plain": [
       "<Figure size 1152x576 with 1 Axes>"
      ]
     },
     "metadata": {
      "needs_background": "light"
     },
     "output_type": "display_data"
    }
   ],
   "source": [
    "#Plot the data\n",
    "train = data[:training_data_len]\n",
    "valid = data[training_data_len:]\n",
    "valid['Predictions'] = predictions\n",
    "#Visualize the data\n",
    "plt.figure(figsize=(16,8))\n",
    "plt.title('Model')\n",
    "plt.xlabel('Date', fontsize=18)\n",
    "plt.ylabel('Close Price USD ($)', fontsize=18)\n",
    "plt.plot(train['Close'])\n",
    "plt.plot(valid[['Close', 'Predictions']])\n",
    "plt.legend(['Train', 'Val', 'Predictions'], loc='lower right')\n",
    "plt.show()"
   ]
  },
  {
   "cell_type": "code",
   "execution_count": 20,
   "metadata": {
    "colab": {
     "base_uri": "https://localhost:8080/",
     "height": 448
    },
    "colab_type": "code",
    "id": "rjQjGVSg-qy2",
    "outputId": "bfc55d6b-d213-47ab-eb6f-711eefbc4876"
   },
   "outputs": [
    {
     "data": {
      "text/html": [
       "<div>\n",
       "<style scoped>\n",
       "    .dataframe tbody tr th:only-of-type {\n",
       "        vertical-align: middle;\n",
       "    }\n",
       "\n",
       "    .dataframe tbody tr th {\n",
       "        vertical-align: top;\n",
       "    }\n",
       "\n",
       "    .dataframe thead th {\n",
       "        text-align: right;\n",
       "    }\n",
       "</style>\n",
       "<table border=\"1\" class=\"dataframe\">\n",
       "  <thead>\n",
       "    <tr style=\"text-align: right;\">\n",
       "      <th></th>\n",
       "      <th>Close</th>\n",
       "      <th>Predictions</th>\n",
       "    </tr>\n",
       "    <tr>\n",
       "      <th>Date</th>\n",
       "      <th></th>\n",
       "      <th></th>\n",
       "    </tr>\n",
       "  </thead>\n",
       "  <tbody>\n",
       "    <tr>\n",
       "      <td>2018-07-23</td>\n",
       "      <td>191.610001</td>\n",
       "      <td>190.570007</td>\n",
       "    </tr>\n",
       "    <tr>\n",
       "      <td>2018-07-24</td>\n",
       "      <td>193.000000</td>\n",
       "      <td>190.770950</td>\n",
       "    </tr>\n",
       "    <tr>\n",
       "      <td>2018-07-25</td>\n",
       "      <td>194.820007</td>\n",
       "      <td>191.069153</td>\n",
       "    </tr>\n",
       "    <tr>\n",
       "      <td>2018-07-26</td>\n",
       "      <td>194.210007</td>\n",
       "      <td>191.578156</td>\n",
       "    </tr>\n",
       "    <tr>\n",
       "      <td>2018-07-27</td>\n",
       "      <td>190.979996</td>\n",
       "      <td>192.081650</td>\n",
       "    </tr>\n",
       "    <tr>\n",
       "      <td>...</td>\n",
       "      <td>...</td>\n",
       "      <td>...</td>\n",
       "    </tr>\n",
       "    <tr>\n",
       "      <td>2020-03-05</td>\n",
       "      <td>292.920013</td>\n",
       "      <td>285.732605</td>\n",
       "    </tr>\n",
       "    <tr>\n",
       "      <td>2020-03-06</td>\n",
       "      <td>289.029999</td>\n",
       "      <td>286.207367</td>\n",
       "    </tr>\n",
       "    <tr>\n",
       "      <td>2020-03-09</td>\n",
       "      <td>266.170013</td>\n",
       "      <td>286.278778</td>\n",
       "    </tr>\n",
       "    <tr>\n",
       "      <td>2020-03-10</td>\n",
       "      <td>285.339996</td>\n",
       "      <td>283.737091</td>\n",
       "    </tr>\n",
       "    <tr>\n",
       "      <td>2020-03-11</td>\n",
       "      <td>275.429993</td>\n",
       "      <td>282.193420</td>\n",
       "    </tr>\n",
       "  </tbody>\n",
       "</table>\n",
       "<p>412 rows × 2 columns</p>\n",
       "</div>"
      ],
      "text/plain": [
       "                 Close  Predictions\n",
       "Date                               \n",
       "2018-07-23  191.610001   190.570007\n",
       "2018-07-24  193.000000   190.770950\n",
       "2018-07-25  194.820007   191.069153\n",
       "2018-07-26  194.210007   191.578156\n",
       "2018-07-27  190.979996   192.081650\n",
       "...                ...          ...\n",
       "2020-03-05  292.920013   285.732605\n",
       "2020-03-06  289.029999   286.207367\n",
       "2020-03-09  266.170013   286.278778\n",
       "2020-03-10  285.339996   283.737091\n",
       "2020-03-11  275.429993   282.193420\n",
       "\n",
       "[412 rows x 2 columns]"
      ]
     },
     "execution_count": 20,
     "metadata": {},
     "output_type": "execute_result"
    }
   ],
   "source": [
    "#Show the valid and predicted prices\n",
    "valid"
   ]
  },
  {
   "cell_type": "code",
   "execution_count": 21,
   "metadata": {
    "colab": {
     "base_uri": "https://localhost:8080/",
     "height": 34
    },
    "colab_type": "code",
    "id": "rXyu5S_n-7ds",
    "outputId": "74f27fbb-94eb-41ef-a122-ed7e55034c5e"
   },
   "outputs": [
    {
     "name": "stdout",
     "output_type": "stream",
     "text": [
      "[[280.20767]]\n"
     ]
    }
   ],
   "source": [
    "#Get the quote\n",
    "apple_quote = web.DataReader('AAPL', data_source='yahoo', start='2012-01-01', end='2020-03-12')\n",
    "#Create a new dataframe\n",
    "new_df = apple_quote.filter(['Close'])\n",
    "#Get teh last 60 day closing price values and convert the dataframe to an array\n",
    "last_60_days = new_df[-60:].values\n",
    "#Scale the data to be values between 0 and 1\n",
    "last_60_days_scaled = scaler.transform(last_60_days)\n",
    "#Create an empty list\n",
    "X_test = []\n",
    "#Append teh past 60 days\n",
    "X_test.append(last_60_days_scaled)\n",
    "#Convert the X_test data set to a numpy array\n",
    "X_test = np.array(X_test)\n",
    "#Reshape the data\n",
    "X_test = np.reshape(X_test, (X_test.shape[0], X_test.shape[1], 1))\n",
    "#Get the predicted scaled price\n",
    "pred_price = model.predict(X_test)\n",
    "#undo the scaling \n",
    "pred_price = scaler.inverse_transform(pred_price)\n",
    "print(pred_price)"
   ]
  },
  {
   "cell_type": "code",
   "execution_count": 22,
   "metadata": {
    "colab": {
     "base_uri": "https://localhost:8080/",
     "height": 68
    },
    "colab_type": "code",
    "id": "LErjDVJvAbQa",
    "outputId": "f62add48-67c8-42d9-9c1e-ba09acc24296"
   },
   "outputs": [
    {
     "name": "stdout",
     "output_type": "stream",
     "text": [
      "Date\n",
      "2019-12-17    280.410004\n",
      "2019-12-18    279.739990\n",
      "2019-12-19    280.019989\n",
      "2019-12-20    279.440002\n",
      "2019-12-23    284.000000\n",
      "2019-12-24    284.269989\n",
      "2019-12-26    289.910004\n",
      "2019-12-27    289.799988\n",
      "2019-12-30    291.519989\n",
      "2019-12-31    293.649994\n",
      "2020-01-02    300.350006\n",
      "2020-01-03    297.429993\n",
      "2020-01-06    299.799988\n",
      "2020-01-07    298.390015\n",
      "2020-01-08    303.190002\n",
      "2020-01-09    309.630005\n",
      "2020-01-10    310.329987\n",
      "2020-01-13    316.959991\n",
      "2020-01-14    312.679993\n",
      "2020-01-15    311.339996\n",
      "2020-01-16    315.239990\n",
      "2020-01-17    318.730011\n",
      "2020-01-21    316.570007\n",
      "2020-01-22    317.700012\n",
      "2020-01-23    319.230011\n",
      "2020-01-24    318.309998\n",
      "2020-01-27    308.950012\n",
      "2020-01-28    317.690002\n",
      "2020-01-29    324.339996\n",
      "2020-01-30    323.869995\n",
      "2020-01-31    309.510010\n",
      "2020-02-03    308.660004\n",
      "2020-02-04    318.850006\n",
      "2020-02-05    321.450012\n",
      "2020-02-06    325.209991\n",
      "2020-02-07    320.029999\n",
      "2020-02-10    321.549988\n",
      "2020-02-11    319.609985\n",
      "2020-02-12    327.200012\n",
      "2020-02-13    324.869995\n",
      "2020-02-14    324.950012\n",
      "2020-02-18    319.000000\n",
      "2020-02-19    323.619995\n",
      "2020-02-20    320.299988\n",
      "2020-02-21    313.049988\n",
      "2020-02-24    298.179993\n",
      "2020-02-25    288.079987\n",
      "2020-02-26    292.649994\n",
      "2020-02-27    273.519989\n",
      "2020-02-28    273.359985\n",
      "2020-03-02    298.809998\n",
      "2020-03-03    289.320007\n",
      "2020-03-04    302.739990\n",
      "2020-03-05    292.920013\n",
      "2020-03-06    289.029999\n",
      "2020-03-09    266.170013\n",
      "2020-03-10    285.339996\n",
      "2020-03-11    275.429993\n",
      "Name: Close, dtype: float64\n"
     ]
    }
   ],
   "source": [
    "#Get the quote\n",
    "apple_quote2 = web.DataReader('AAPL', data_source='yahoo', start='2019-12-18', end='2020-03-12')\n",
    "print(apple_quote2['Close'])"
   ]
  },
  {
   "cell_type": "code",
   "execution_count": null,
   "metadata": {},
   "outputs": [],
   "source": []
  }
 ],
 "metadata": {
  "colab": {
   "name": "LSTM2.ipynb",
   "provenance": []
  },
  "kernelspec": {
   "display_name": "Python 3",
   "language": "python",
   "name": "python3"
  },
  "language_info": {
   "codemirror_mode": {
    "name": "ipython",
    "version": 3
   },
   "file_extension": ".py",
   "mimetype": "text/x-python",
   "name": "python",
   "nbconvert_exporter": "python",
   "pygments_lexer": "ipython3",
   "version": "3.7.4"
  }
 },
 "nbformat": 4,
 "nbformat_minor": 1
}
