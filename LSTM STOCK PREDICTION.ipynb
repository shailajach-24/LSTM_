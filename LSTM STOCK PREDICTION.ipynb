{
 "cells": [
  {
   "cell_type": "code",
   "execution_count": 1,
   "metadata": {
    "colab": {
     "base_uri": "https://localhost:8080/",
     "height": 54
    },
    "colab_type": "code",
    "id": "YYeDb1g8ibVW",
    "outputId": "87e6b31b-607f-4f9e-8616-83e363c7e5ae"
   },
   "outputs": [
    {
     "data": {
      "text/plain": [
       "'\\nLong short-term memory (LSTM) is an artificial recurrent neural network (RNN) architecture used in the field of deep learning. \\nUnlike standard feedforward neural networks, LSTM has feedback connections. \\nIt can not only process single data points (such as images), but also entire sequences of data (such as speech or video). --Wikipedia\\n\\nLSTMs are widely used for sequence prediction problems and have proven to be extremely effective.\\nThe reason they work so well is because LSTM is able to store past information that is important, and forget the information that is not. -Stackabuse.com\\n\\nCommon Architecture of LSTM:\\nForget Gate\\nInput Gate\\nOutput Gate\\n\\n'"
      ]
     },
     "execution_count": 1,
     "metadata": {},
     "output_type": "execute_result"
    }
   ],
   "source": [
    "'''\n",
    "Long short-term memory (LSTM) is an artificial recurrent neural network (RNN) architecture used in the field of deep learning. \n",
    "Unlike standard feedforward neural networks, LSTM has feedback connections. \n",
    "It can not only process single data points (such as images), but also entire sequences of data (such as speech or video). --Wikipedia\n",
    "\n",
    "LSTMs are widely used for sequence prediction problems and have proven to be extremely effective.\n",
    "The reason they work so well is because LSTM is able to store past information that is important, and forget the information that is not. -Stackabuse.com\n",
    "\n",
    "Common Architecture of LSTM:\n",
    "Forget Gate\n",
    "Input Gate\n",
    "Output Gate\n",
    "\n",
    "'''"
   ]
  },
  {
   "cell_type": "code",
   "execution_count": 2,
   "metadata": {
    "colab": {},
    "colab_type": "code",
    "id": "lf-PSxMrigHO"
   },
   "outputs": [],
   "source": [
    "# Description: This program uses an artificial recurrent neural network called Long Short Term Memory (LSTM) \n",
    "#              to predict the closing stock price of a corporation using the past 60 day stock price.\n",
    "#              \n",
    "#\n",
    "# Resources: https://www.analyticsvidhya.com/blog/2018/10/predicting-stock-price-machine-learningnd-deep-learning-techniques-python/\n",
    "#            https://stackabuse.com/time-series-analysis-with-lstm-using-pythons-keras-library/\n",
    "#            https://www.analyticsvidhya.com/blog/2017/12/fundamentals-of-deep-learning-introduction-to-lstm/\n",
    "#            https://en.wikipedia.org/wiki/Long_short-term_memory\n",
    "#            https://machinelearningmastery.com/how-to-improve-neural-network-stability-and-modeling-performance-with-data-scaling/\n",
    "#            https://medium.com/@dclengacher/keras-lstm-recurrent-neural-networks-c1f5febde03d "
   ]
  },
  {
   "cell_type": "code",
   "execution_count": 3,
   "metadata": {
    "colab": {
     "base_uri": "https://localhost:8080/",
     "height": 80
    },
    "colab_type": "code",
    "id": "68jw7pEtin6V",
    "outputId": "04516a50-0778-4f10-f759-ff0a1539dc72"
   },
   "outputs": [
    {
     "name": "stderr",
     "output_type": "stream",
     "text": [
      "Using TensorFlow backend.\n"
     ]
    }
   ],
   "source": [
    "#Import the libraries\n",
    "import math\n",
    "import pandas_datareader as web\n",
    "import numpy as np\n",
    "import pandas as pd\n",
    "from sklearn.preprocessing import MinMaxScaler\n",
    "from keras.models import Sequential\n",
    "from keras.layers import Dense, LSTM\n",
    "import matplotlib.pyplot as plt\n",
    "plt.style.use('fivethirtyeight')"
   ]
  },
  {
   "cell_type": "code",
   "execution_count": 4,
   "metadata": {
    "colab": {
     "base_uri": "https://localhost:8080/",
     "height": 448
    },
    "colab_type": "code",
    "id": "eQbLBmbIi6VV",
    "outputId": "405ec531-bba4-4308-bd78-d0a0f5246aba"
   },
   "outputs": [
    {
     "data": {
      "text/html": [
       "<div>\n",
       "<style scoped>\n",
       "    .dataframe tbody tr th:only-of-type {\n",
       "        vertical-align: middle;\n",
       "    }\n",
       "\n",
       "    .dataframe tbody tr th {\n",
       "        vertical-align: top;\n",
       "    }\n",
       "\n",
       "    .dataframe thead th {\n",
       "        text-align: right;\n",
       "    }\n",
       "</style>\n",
       "<table border=\"1\" class=\"dataframe\">\n",
       "  <thead>\n",
       "    <tr style=\"text-align: right;\">\n",
       "      <th></th>\n",
       "      <th>High</th>\n",
       "      <th>Low</th>\n",
       "      <th>Open</th>\n",
       "      <th>Close</th>\n",
       "      <th>Volume</th>\n",
       "      <th>Adj Close</th>\n",
       "    </tr>\n",
       "    <tr>\n",
       "      <th>Date</th>\n",
       "      <th></th>\n",
       "      <th></th>\n",
       "      <th></th>\n",
       "      <th></th>\n",
       "      <th></th>\n",
       "      <th></th>\n",
       "    </tr>\n",
       "  </thead>\n",
       "  <tbody>\n",
       "    <tr>\n",
       "      <td>2012-01-03</td>\n",
       "      <td>58.928570</td>\n",
       "      <td>58.428570</td>\n",
       "      <td>58.485714</td>\n",
       "      <td>58.747143</td>\n",
       "      <td>75555200.0</td>\n",
       "      <td>50.994907</td>\n",
       "    </tr>\n",
       "    <tr>\n",
       "      <td>2012-01-04</td>\n",
       "      <td>59.240002</td>\n",
       "      <td>58.468571</td>\n",
       "      <td>58.571430</td>\n",
       "      <td>59.062859</td>\n",
       "      <td>65005500.0</td>\n",
       "      <td>51.268970</td>\n",
       "    </tr>\n",
       "    <tr>\n",
       "      <td>2012-01-05</td>\n",
       "      <td>59.792858</td>\n",
       "      <td>58.952858</td>\n",
       "      <td>59.278572</td>\n",
       "      <td>59.718571</td>\n",
       "      <td>67817400.0</td>\n",
       "      <td>51.838169</td>\n",
       "    </tr>\n",
       "    <tr>\n",
       "      <td>2012-01-06</td>\n",
       "      <td>60.392857</td>\n",
       "      <td>59.888573</td>\n",
       "      <td>59.967144</td>\n",
       "      <td>60.342857</td>\n",
       "      <td>79573200.0</td>\n",
       "      <td>52.380054</td>\n",
       "    </tr>\n",
       "    <tr>\n",
       "      <td>2012-01-09</td>\n",
       "      <td>61.107143</td>\n",
       "      <td>60.192856</td>\n",
       "      <td>60.785713</td>\n",
       "      <td>60.247143</td>\n",
       "      <td>98506100.0</td>\n",
       "      <td>52.296970</td>\n",
       "    </tr>\n",
       "    <tr>\n",
       "      <td>...</td>\n",
       "      <td>...</td>\n",
       "      <td>...</td>\n",
       "      <td>...</td>\n",
       "      <td>...</td>\n",
       "      <td>...</td>\n",
       "      <td>...</td>\n",
       "    </tr>\n",
       "    <tr>\n",
       "      <td>2020-03-05</td>\n",
       "      <td>299.549988</td>\n",
       "      <td>291.410004</td>\n",
       "      <td>295.519989</td>\n",
       "      <td>292.920013</td>\n",
       "      <td>46893200.0</td>\n",
       "      <td>292.920013</td>\n",
       "    </tr>\n",
       "    <tr>\n",
       "      <td>2020-03-06</td>\n",
       "      <td>290.820007</td>\n",
       "      <td>281.230011</td>\n",
       "      <td>282.000000</td>\n",
       "      <td>289.029999</td>\n",
       "      <td>56544200.0</td>\n",
       "      <td>289.029999</td>\n",
       "    </tr>\n",
       "    <tr>\n",
       "      <td>2020-03-09</td>\n",
       "      <td>278.089996</td>\n",
       "      <td>263.000000</td>\n",
       "      <td>263.750000</td>\n",
       "      <td>266.170013</td>\n",
       "      <td>71686200.0</td>\n",
       "      <td>266.170013</td>\n",
       "    </tr>\n",
       "    <tr>\n",
       "      <td>2020-03-10</td>\n",
       "      <td>286.440002</td>\n",
       "      <td>269.369995</td>\n",
       "      <td>277.140015</td>\n",
       "      <td>285.339996</td>\n",
       "      <td>71322500.0</td>\n",
       "      <td>285.339996</td>\n",
       "    </tr>\n",
       "    <tr>\n",
       "      <td>2020-03-11</td>\n",
       "      <td>281.220001</td>\n",
       "      <td>271.859985</td>\n",
       "      <td>277.390015</td>\n",
       "      <td>275.429993</td>\n",
       "      <td>63899700.0</td>\n",
       "      <td>275.429993</td>\n",
       "    </tr>\n",
       "  </tbody>\n",
       "</table>\n",
       "<p>2060 rows × 6 columns</p>\n",
       "</div>"
      ],
      "text/plain": [
       "                  High         Low        Open       Close      Volume  \\\n",
       "Date                                                                     \n",
       "2012-01-03   58.928570   58.428570   58.485714   58.747143  75555200.0   \n",
       "2012-01-04   59.240002   58.468571   58.571430   59.062859  65005500.0   \n",
       "2012-01-05   59.792858   58.952858   59.278572   59.718571  67817400.0   \n",
       "2012-01-06   60.392857   59.888573   59.967144   60.342857  79573200.0   \n",
       "2012-01-09   61.107143   60.192856   60.785713   60.247143  98506100.0   \n",
       "...                ...         ...         ...         ...         ...   \n",
       "2020-03-05  299.549988  291.410004  295.519989  292.920013  46893200.0   \n",
       "2020-03-06  290.820007  281.230011  282.000000  289.029999  56544200.0   \n",
       "2020-03-09  278.089996  263.000000  263.750000  266.170013  71686200.0   \n",
       "2020-03-10  286.440002  269.369995  277.140015  285.339996  71322500.0   \n",
       "2020-03-11  281.220001  271.859985  277.390015  275.429993  63899700.0   \n",
       "\n",
       "             Adj Close  \n",
       "Date                    \n",
       "2012-01-03   50.994907  \n",
       "2012-01-04   51.268970  \n",
       "2012-01-05   51.838169  \n",
       "2012-01-06   52.380054  \n",
       "2012-01-09   52.296970  \n",
       "...                ...  \n",
       "2020-03-05  292.920013  \n",
       "2020-03-06  289.029999  \n",
       "2020-03-09  266.170013  \n",
       "2020-03-10  285.339996  \n",
       "2020-03-11  275.429993  \n",
       "\n",
       "[2060 rows x 6 columns]"
      ]
     },
     "execution_count": 4,
     "metadata": {},
     "output_type": "execute_result"
    }
   ],
   "source": [
    "#Get the Stock Quote: The price of a stock as quoted on an exchange\n",
    "df = web.DataReader('AAPL', data_source='yahoo', start='2012-01-01', end='2020-03-12') #end = '2017-12-31', format = 'YYYY-MM-DD'\n",
    "#Show the data\n",
    "df"
   ]
  },
  {
   "cell_type": "code",
   "execution_count": 5,
   "metadata": {
    "colab": {
     "base_uri": "https://localhost:8080/",
     "height": 34
    },
    "colab_type": "code",
    "id": "IayE9gpijH3d",
    "outputId": "85edc189-4f10-4376-a148-75626925bf19"
   },
   "outputs": [
    {
     "data": {
      "text/plain": [
       "(2060, 6)"
      ]
     },
     "execution_count": 5,
     "metadata": {},
     "output_type": "execute_result"
    }
   ],
   "source": [
    "#Show the number of rows and columns in the data\n",
    "#The data frame has 2004 rows of data and 6 columns\n",
    "df.shape"
   ]
  },
  {
   "cell_type": "code",
   "execution_count": 6,
   "metadata": {
    "colab": {
     "base_uri": "https://localhost:8080/",
     "height": 681
    },
    "colab_type": "code",
    "id": "sTLbwEB-jSY_",
    "outputId": "9a9b6b69-e311-442c-db3b-3990a2a2a594"
   },
   "outputs": [
    {
     "name": "stderr",
     "output_type": "stream",
     "text": [
      "C:\\Users\\dell\\Anaconda3\\lib\\site-packages\\pandas\\plotting\\_matplotlib\\converter.py:103: FutureWarning: Using an implicitly registered datetime converter for a matplotlib plotting method. The converter was registered by pandas on import. Future versions of pandas will require you to explicitly register matplotlib converters.\n",
      "\n",
      "To register the converters:\n",
      "\t>>> from pandas.plotting import register_matplotlib_converters\n",
      "\t>>> register_matplotlib_converters()\n",
      "  warnings.warn(msg, FutureWarning)\n"
     ]
    },
    {
     "data": {
      "image/png": "[encoded data removed]",
      "text/plain": [
       "<Figure size 1152x576 with 1 Axes>"
      ]
     },
     "metadata": {
      "needs_background": "light"
     },
     "output_type": "display_data"
    }
   ],
   "source": [
    "#Visualize the closing price history\n",
    "plt.figure(figsize=(16,8))\n",
    "plt.title('Close Price History')\n",
    "plt.plot(df['Close'])\n",
    "plt.xlabel('Date',fontsize=18)\n",
    "plt.ylabel('Close Price USD ($)',fontsize=18)\n",
    "plt.show()"
   ]
  },
  {
   "cell_type": "code",
   "execution_count": 20,
   "metadata": {
    "colab": {},
    "colab_type": "code",
    "id": "-KLhwghSl-PA"
   },
   "outputs": [
    {
     "data": {
      "text/plain": [
       "1648"
      ]
     },
     "execution_count": 20,
     "metadata": {},
     "output_type": "execute_result"
    }
   ],
   "source": [
    "#Create a new dataframe with only the 'Close' column\n",
    "data = df.filter(['Close'])\n",
    "#Converting the dataframe to a numpy array\n",
    "dataset = data.values\n",
    "#Get /Compute the number of rows to train the model on\n",
    "#That is equivalently the length that we want the training data set to have \n",
    "# and equivalently it is equal to the ending index - 1 of the training data set\n",
    "training_data_len = math.ceil( len(dataset) *.8) # Length is about 80% of the original data, which is 2003 * .8 = 1603 rounded up\n",
    "training_data_len"
   ]
  },
  {
   "cell_type": "code",
   "execution_count": 8,
   "metadata": {
    "colab": {},
    "colab_type": "code",
    "id": "KD6E0tB3mav_"
   },
   "outputs": [
    {
     "data": {
      "text/plain": [
       "array([[0.01089548],\n",
       "       [0.01205872],\n",
       "       [0.01447467],\n",
       "       ...,\n",
       "       [0.77513726],\n",
       "       [0.84576834],\n",
       "       [0.80925531]])"
      ]
     },
     "execution_count": 8,
     "metadata": {},
     "output_type": "execute_result"
    }
   ],
   "source": [
    "#Scale the all of the data to be values between 0 and 1\n",
    "#In practice it is nearly always advantageous to apply pre-processing transformations/ scaling/ normalization to the input data before it is presented to a network. \n",
    "scaler = MinMaxScaler(feature_range=(0, 1))\n",
    "scaled_data = scaler.fit_transform(dataset)#Compute the minimum and maximum to be used for later scaling to data, then transform it.\n",
    "scaled_data"
   ]
  },
  {
   "cell_type": "code",
   "execution_count": 9,
   "metadata": {
    "colab": {},
    "colab_type": "code",
    "id": "CN4qHfiTml6H"
   },
   "outputs": [
    {
     "data": {
      "text/plain": [
       "array([[[0.01089548],\n",
       "        [0.01205872],\n",
       "        [0.01447467],\n",
       "        ...,\n",
       "        [0.11392883],\n",
       "        [0.11787649],\n",
       "        [0.11952923]],\n",
       "\n",
       "       [[0.01205872],\n",
       "        [0.01447467],\n",
       "        [0.01677483],\n",
       "        ...,\n",
       "        [0.11787649],\n",
       "        [0.11952923],\n",
       "        [0.11544473]],\n",
       "\n",
       "       [[0.01447467],\n",
       "        [0.01677483],\n",
       "        [0.01642217],\n",
       "        ...,\n",
       "        [0.11952923],\n",
       "        [0.11544473],\n",
       "        [0.11001805]],\n",
       "\n",
       "       ...,\n",
       "\n",
       "       [[0.40326443],\n",
       "        [0.39479016],\n",
       "        [0.3974061 ],\n",
       "        ...,\n",
       "        [0.49939205],\n",
       "        [0.49784458],\n",
       "        [0.49983416]],\n",
       "\n",
       "       [[0.39479016],\n",
       "        [0.3974061 ],\n",
       "        [0.39950627],\n",
       "        ...,\n",
       "        [0.49784458],\n",
       "        [0.49983416],\n",
       "        [0.49596547]],\n",
       "\n",
       "       [[0.3974061 ],\n",
       "        [0.39950627],\n",
       "        [0.39250581],\n",
       "        ...,\n",
       "        [0.49983416],\n",
       "        [0.49596547],\n",
       "        [0.50141851]]])"
      ]
     },
     "execution_count": 9,
     "metadata": {},
     "output_type": "execute_result"
    }
   ],
   "source": [
    "#Create the training data set\n",
    "#Create the scaled training data set :  a new array containing the scaled values from index 0 to 1602\n",
    "train_data = scaled_data[0:training_data_len  , : ]\n",
    "#Split the data into x_train and y_train data sets\n",
    "x_train=[]\n",
    "y_train = []\n",
    "for i in range(60,len(train_data)):\n",
    "    x_train.append(train_data[i-60:i,0])#The independent training variables or training feature set 'X' (holds the stock price value for the past 60 days at position 'i-60')\n",
    "    y_train.append(train_data[i,0])#The dependent training variables, or target, or training label set 'Y' (holds the stock price at the 61st day at position 'i-60')\n",
    "#Convert x_train and y_train to numpy arrays so we can use them for training the LSTM model\n",
    "x_train, y_train = np.array(x_train), np.array(y_train)\n",
    "\n",
    "#A LSTM network expects the input to be 3-Dimensional in the form [samples, time steps, features]:\n",
    "# samples is the number of data points (or rows/ records) we have, \n",
    "# time steps is the number of time-dependent steps that are there in a single data point (60),\n",
    "# features/indicators refers to the number of variables we have for the corresponding true value in Y, since we are only using one feature 'Close',\n",
    "# the number of features/indicators will be one\n",
    "#Reshape the data into the shape accepted by the LSTM\n",
    "x_train = np.reshape(x_train, (x_train.shape[0],x_train.shape[1],1))\n",
    "x_train"
   ]
  },
  {
   "cell_type": "code",
   "execution_count": 10,
   "metadata": {
    "colab": {
     "base_uri": "https://localhost:8080/",
     "height": 140
    },
    "colab_type": "code",
    "id": "6naftY_2mtun",
    "outputId": "0d054a44-23cd-4cb5-809a-7c03e585ea79"
   },
   "outputs": [],
   "source": [
    "#Build the LSTM network model\n",
    "model = Sequential()\n",
    "#First LSTM layer, input_shape = the number of time steps (60 or x_train.shape[1]) while the last parameter is the number of features (1)\n",
    "model.add(LSTM(units=50, return_sequences=True, input_shape=(x_train.shape[1],1))) #Units=number of neurons, return_sequences is set to true since we will add more layers to the model.\n",
    "model.add(LSTM(units=50, return_sequences=False)) #LSTM layer with 50 neurons, return sequence by default is False but I put it here just to show\n",
    "model.add(Dense(units=25)) #Just your regular densely-connected Neural Network layer with 25 neurons\n",
    "model.add(Dense(units=1)) #Just your regular densely-connected Neural Network layer with 1 neuron"
   ]
  },
  {
   "cell_type": "code",
   "execution_count": 11,
   "metadata": {
    "colab": {
     "base_uri": "https://localhost:8080/",
     "height": 71
    },
    "colab_type": "code",
    "id": "xyi2HWXGmzQO",
    "outputId": "1c0184e9-457f-45ff-e23d-1136bd56b6b9"
   },
   "outputs": [],
   "source": [
    "#Compile the model\n",
    "# optimizer = adam and the optimizer is used to improve upon the loss\n",
    "# loss function = mean_squared_error (MSE) and loss functions are used to measure how well the model did on training\n",
    "model.compile(optimizer='adam', loss='mean_squared_error')"
   ]
  },
  {
   "cell_type": "code",
   "execution_count": 12,
   "metadata": {
    "colab": {
     "base_uri": "https://localhost:8080/",
     "height": 414
    },
    "colab_type": "code",
    "id": "T6UmQtTdm2nu",
    "outputId": "b10a71fb-15d7-41a5-b2f2-b3a08c42f7fb"
   },
   "outputs": [
    {
     "name": "stdout",
     "output_type": "stream",
     "text": [
      "Epoch 1/1\n",
      "1588/1588 [==============================] - 118s 75ms/step - loss: 5.2361e-04\n"
     ]
    },
    {
     "data": {
      "text/plain": [
       "<keras.callbacks.callbacks.History at 0x233de333188>"
      ]
     },
     "execution_count": 12,
     "metadata": {},
     "output_type": "execute_result"
    }
   ],
   "source": [
    "#Fit / Train the model\n",
    "#Batch Size: Total number of training examples present in a single batch\n",
    "#Epoch:The number of iterations when an ENTIRE dataset is passed forward and backward through the neural network .\n",
    "#Fit: Another word for train\n",
    "model.fit(x_train, y_train, batch_size=1, epochs=1)"
   ]
  },
  {
   "cell_type": "code",
   "execution_count": 13,
   "metadata": {
    "colab": {},
    "colab_type": "code",
    "id": "qmCGkarVnUbn"
   },
   "outputs": [
    {
     "data": {
      "text/plain": [
       "array([[[0.39950627],\n",
       "        [0.39250581],\n",
       "        [0.40333808],\n",
       "        ...,\n",
       "        [0.49596547],\n",
       "        [0.50141851],\n",
       "        [0.49979734]],\n",
       "\n",
       "       [[0.39250581],\n",
       "        [0.40333808],\n",
       "        [0.41748646],\n",
       "        ...,\n",
       "        [0.50141851],\n",
       "        [0.49979734],\n",
       "        [0.50042369]],\n",
       "\n",
       "       [[0.40333808],\n",
       "        [0.41748646],\n",
       "        [0.4450094 ],\n",
       "        ...,\n",
       "        [0.49979734],\n",
       "        [0.50042369],\n",
       "        [0.50554509]],\n",
       "\n",
       "       ...,\n",
       "\n",
       "       [[0.78364836],\n",
       "        [0.7920857 ],\n",
       "        [0.79462799],\n",
       "        ...,\n",
       "        [0.90987797],\n",
       "        [0.87369663],\n",
       "        [0.85936402]],\n",
       "\n",
       "       [[0.7920857 ],\n",
       "        [0.79462799],\n",
       "        [0.80822366],\n",
       "        ...,\n",
       "        [0.87369663],\n",
       "        [0.85936402],\n",
       "        [0.77513726]],\n",
       "\n",
       "       [[0.79462799],\n",
       "        [0.80822366],\n",
       "        [0.82557745],\n",
       "        ...,\n",
       "        [0.85936402],\n",
       "        [0.77513726],\n",
       "        [0.84576834]]])"
      ]
     },
     "execution_count": 13,
     "metadata": {},
     "output_type": "execute_result"
    }
   ],
   "source": [
    "#Create the testing data set\n",
    "#Create the scaled testing data set : a new array containing the scaled values from index 1543 to 2002 of the dataframe, for a total length of 460, using the past 60 days\n",
    "test_data = scaled_data[training_data_len - 60: , : ]\n",
    "#Create the x_test and y_test data sets\n",
    "x_test = []\n",
    "y_test =  dataset[training_data_len : , : ] #Get all of the rows from index 1603 to the rest and all of the columns (in this case it's only column 'Close'), so 2003 - 1603 = 400 rows of data\n",
    "for i in range(60,len(test_data)):\n",
    "    x_test.append(test_data[i-60:i,0])#The independent testing variables or testing feature set 'X' (holds the stock price value for the past 60 days at position 'i-60')\n",
    "#Convert x_test to a numpy array so we can use it to test and make predictions using the LSTM model we created\n",
    "x_test = np.array(x_test)\n",
    "\n",
    "#A LSTM network expects the input to be 3-Dimensional in the form [samples, time steps, features]:\n",
    "# samples is the number of data points (or rows/ records) we have, \n",
    "# time steps is the number of time-dependent steps that are there in a single data point (60),\n",
    "# features/indicators refers to the number of variables we have for the corresponding true value in Y, since we are only using one feature 'Close',\n",
    "# the number of features/indicators will be one\n",
    "#Reshape the data into the shape accepted by the LSTM\n",
    "x_test = np.reshape(x_test, (x_test.shape[0],x_test.shape[1],1)) #Reshaping the variable to be 3-Dimensional in the form [samples, time steps, features] for the Neural Network\n",
    "x_test"
   ]
  },
  {
   "cell_type": "code",
   "execution_count": 14,
   "metadata": {
    "colab": {},
    "colab_type": "code",
    "id": "ojA5gTzfnVxO"
   },
   "outputs": [
    {
     "data": {
      "text/plain": [
       "array([[182.48775],\n",
       "       [182.66122],\n",
       "       [182.9488 ],\n",
       "       [183.4452 ],\n",
       "       [183.90486],\n",
       "       [183.94667],\n",
       "       [183.68985],\n",
       "       [183.37221],\n",
       "       [184.27365],\n",
       "       [186.21666],\n",
       "       [188.44339],\n",
       "       [190.63867],\n",
       "       [192.32518],\n",
       "       [193.58867],\n",
       "       [194.67343],\n",
       "       [195.38687],\n",
       "       [195.9956 ],\n",
       "       [196.57208],\n",
       "       [197.11542],\n",
       "       [197.91214],\n",
       "       [199.17673],\n",
       "       [200.25096],\n",
       "       [201.07356],\n",
       "       [201.68266],\n",
       "       [202.16747],\n",
       "       [202.60797],\n",
       "       [203.16623],\n",
       "       [203.89381],\n",
       "       [204.95847],\n",
       "       [206.25206],\n",
       "       [207.76234],\n",
       "       [209.24834],\n",
       "       [210.3712 ],\n",
       "       [210.78595],\n",
       "       [210.6521 ],\n",
       "       [209.97348],\n",
       "       [209.75156],\n",
       "       [209.43634],\n",
       "       [209.72229],\n",
       "       [209.94054],\n",
       "       [209.47292],\n",
       "       [208.82535],\n",
       "       [208.18768],\n",
       "       [207.81592],\n",
       "       [207.34807],\n",
       "       [207.25053],\n",
       "       [207.46889],\n",
       "       [207.60542],\n",
       "       [208.1894 ],\n",
       "       [208.96251],\n",
       "       [209.88553],\n",
       "       [210.96996],\n",
       "       [212.28145],\n",
       "       [213.0691 ],\n",
       "       [213.13918],\n",
       "       [212.83589],\n",
       "       [212.73938],\n",
       "       [211.59065],\n",
       "       [209.9659 ],\n",
       "       [209.16876],\n",
       "       [208.29324],\n",
       "       [208.04642],\n",
       "       [207.98744],\n",
       "       [207.4687 ],\n",
       "       [207.19028],\n",
       "       [207.17992],\n",
       "       [207.51173],\n",
       "       [207.1162 ],\n",
       "       [206.99103],\n",
       "       [206.59343],\n",
       "       [205.70062],\n",
       "       [204.82849],\n",
       "       [204.66983],\n",
       "       [205.19258],\n",
       "       [204.34596],\n",
       "       [202.42247],\n",
       "       [200.50558],\n",
       "       [199.48366],\n",
       "       [198.81183],\n",
       "       [197.9612 ],\n",
       "       [196.04051],\n",
       "       [193.70659],\n",
       "       [190.8892 ],\n",
       "       [188.71805],\n",
       "       [187.31657],\n",
       "       [185.60892],\n",
       "       [183.0497 ],\n",
       "       [180.42297],\n",
       "       [177.59804],\n",
       "       [175.29123],\n",
       "       [173.45122],\n",
       "       [172.76834],\n",
       "       [172.52629],\n",
       "       [172.41484],\n",
       "       [173.04083],\n",
       "       [173.02568],\n",
       "       [172.52718],\n",
       "       [171.19444],\n",
       "       [169.7725 ],\n",
       "       [168.36882],\n",
       "       [167.1971 ],\n",
       "       [166.47075],\n",
       "       [165.44841],\n",
       "       [164.26616],\n",
       "       [163.3811 ],\n",
       "       [162.17958],\n",
       "       [160.55995],\n",
       "       [158.30298],\n",
       "       [155.6244 ],\n",
       "       [154.17604],\n",
       "       [153.33823],\n",
       "       [152.90088],\n",
       "       [152.85983],\n",
       "       [153.01807],\n",
       "       [151.57585],\n",
       "       [150.23868],\n",
       "       [149.05048],\n",
       "       [148.37297],\n",
       "       [148.27827],\n",
       "       [148.51189],\n",
       "       [148.70685],\n",
       "       [148.61665],\n",
       "       [148.72888],\n",
       "       [149.1078 ],\n",
       "       [149.65631],\n",
       "       [150.3151 ],\n",
       "       [150.56747],\n",
       "       [150.67168],\n",
       "       [150.56026],\n",
       "       [150.90048],\n",
       "       [151.24309],\n",
       "       [151.37936],\n",
       "       [152.52846],\n",
       "       [154.11075],\n",
       "       [155.71114],\n",
       "       [157.62788],\n",
       "       [159.75562],\n",
       "       [161.71901],\n",
       "       [163.01207],\n",
       "       [163.78845],\n",
       "       [164.12686],\n",
       "       [164.3828 ],\n",
       "       [164.49336],\n",
       "       [164.59795],\n",
       "       [164.65007],\n",
       "       [164.7329 ],\n",
       "       [164.94046],\n",
       "       [165.07762],\n",
       "       [165.3764 ],\n",
       "       [165.84448],\n",
       "       [166.34312],\n",
       "       [166.85425],\n",
       "       [167.12358],\n",
       "       [167.44911],\n",
       "       [167.84903],\n",
       "       [168.19888],\n",
       "       [168.37708],\n",
       "       [168.24194],\n",
       "       [168.02966],\n",
       "       [168.44797],\n",
       "       [169.30457],\n",
       "       [170.34192],\n",
       "       [171.55066],\n",
       "       [172.939  ],\n",
       "       [174.43454],\n",
       "       [175.62767],\n",
       "       [176.71457],\n",
       "       [178.35733],\n",
       "       [179.5929 ],\n",
       "       [180.25879],\n",
       "       [180.37917],\n",
       "       [180.42336],\n",
       "       [180.45032],\n",
       "       [180.60309],\n",
       "       [180.9343 ],\n",
       "       [181.60612],\n",
       "       [182.48802],\n",
       "       [183.39226],\n",
       "       [184.33662],\n",
       "       [185.51236],\n",
       "       [186.5717 ],\n",
       "       [187.5713 ],\n",
       "       [188.23424],\n",
       "       [188.66023],\n",
       "       [188.9647 ],\n",
       "       [189.17844],\n",
       "       [189.74641],\n",
       "       [190.4713 ],\n",
       "       [191.25183],\n",
       "       [192.27948],\n",
       "       [193.24593],\n",
       "       [193.86403],\n",
       "       [194.14903],\n",
       "       [194.28448],\n",
       "       [193.90831],\n",
       "       [194.43199],\n",
       "       [195.10956],\n",
       "       [196.06873],\n",
       "       [196.67177],\n",
       "       [196.44542],\n",
       "       [195.8987 ],\n",
       "       [195.03596],\n",
       "       [193.76637],\n",
       "       [191.25095],\n",
       "       [188.84901],\n",
       "       [187.0241 ],\n",
       "       [185.59497],\n",
       "       [184.41687],\n",
       "       [182.86954],\n",
       "       [181.74377],\n",
       "       [180.52043],\n",
       "       [179.08165],\n",
       "       [177.65387],\n",
       "       [176.32448],\n",
       "       [175.11143],\n",
       "       [174.1988 ],\n",
       "       [173.18307],\n",
       "       [172.06262],\n",
       "       [171.71043],\n",
       "       [172.03981],\n",
       "       [172.91966],\n",
       "       [174.46193],\n",
       "       [176.35834],\n",
       "       [178.40968],\n",
       "       [180.19664],\n",
       "       [181.63235],\n",
       "       [182.57094],\n",
       "       [183.29126],\n",
       "       [184.30814],\n",
       "       [185.25586],\n",
       "       [186.23296],\n",
       "       [187.02472],\n",
       "       [187.61772],\n",
       "       [187.7244 ],\n",
       "       [188.06792],\n",
       "       [188.45517],\n",
       "       [188.62419],\n",
       "       [189.07639],\n",
       "       [189.71635],\n",
       "       [190.54384],\n",
       "       [191.3302 ],\n",
       "       [191.54741],\n",
       "       [191.62883],\n",
       "       [191.84683],\n",
       "       [191.93364],\n",
       "       [192.1274 ],\n",
       "       [192.5472 ],\n",
       "       [192.93533],\n",
       "       [193.14192],\n",
       "       [193.4956 ],\n",
       "       [193.52992],\n",
       "       [193.93102],\n",
       "       [194.6035 ],\n",
       "       [195.29338],\n",
       "       [195.7287 ],\n",
       "       [196.07895],\n",
       "       [196.55254],\n",
       "       [196.91734],\n",
       "       [197.65465],\n",
       "       [197.95042],\n",
       "       [197.55516],\n",
       "       [195.75873],\n",
       "       [193.99222],\n",
       "       [192.65913],\n",
       "       [192.1611 ],\n",
       "       [191.8301 ],\n",
       "       [191.57796],\n",
       "       [192.31255],\n",
       "       [192.69446],\n",
       "       [192.78798],\n",
       "       [193.25116],\n",
       "       [194.2166 ],\n",
       "       [195.27449],\n",
       "       [196.48903],\n",
       "       [197.59023],\n",
       "       [197.43642],\n",
       "       [197.19157],\n",
       "       [196.65952],\n",
       "       [196.22533],\n",
       "       [196.26242],\n",
       "       [196.46857],\n",
       "       [196.40286],\n",
       "       [196.61507],\n",
       "       [197.35332],\n",
       "       [198.21994],\n",
       "       [199.13747],\n",
       "       [200.2324 ],\n",
       "       [202.00552],\n",
       "       [203.77614],\n",
       "       [204.85522],\n",
       "       [205.62932],\n",
       "       [206.24484],\n",
       "       [206.93254],\n",
       "       [207.36162],\n",
       "       [207.28194],\n",
       "       [207.1083 ],\n",
       "       [206.79755],\n",
       "       [206.83734],\n",
       "       [206.89403],\n",
       "       [206.84665],\n",
       "       [207.32538],\n",
       "       [208.02463],\n",
       "       [208.12485],\n",
       "       [208.17354],\n",
       "       [208.8523 ],\n",
       "       [209.7052 ],\n",
       "       [210.24399],\n",
       "       [210.87297],\n",
       "       [211.77994],\n",
       "       [213.34868],\n",
       "       [214.94943],\n",
       "       [216.30627],\n",
       "       [217.27892],\n",
       "       [218.0574 ],\n",
       "       [218.76654],\n",
       "       [219.7963 ],\n",
       "       [220.75891],\n",
       "       [221.92798],\n",
       "       [223.06781],\n",
       "       [224.37769],\n",
       "       [225.85027],\n",
       "       [226.5675 ],\n",
       "       [226.88895],\n",
       "       [227.58997],\n",
       "       [229.11058],\n",
       "       [230.9509 ],\n",
       "       [232.65463],\n",
       "       [234.09494],\n",
       "       [235.47035],\n",
       "       [236.70305],\n",
       "       [237.93582],\n",
       "       [238.97221],\n",
       "       [240.06671],\n",
       "       [240.83177],\n",
       "       [241.70897],\n",
       "       [242.65005],\n",
       "       [243.4057 ],\n",
       "       [243.65271],\n",
       "       [243.537  ],\n",
       "       [243.25917],\n",
       "       [243.45055],\n",
       "       [243.57198],\n",
       "       [244.05623],\n",
       "       [244.55284],\n",
       "       [244.66228],\n",
       "       [244.09436],\n",
       "       [243.57982],\n",
       "       [243.55623],\n",
       "       [244.29114],\n",
       "       [244.82495],\n",
       "       [245.40184],\n",
       "       [246.15938],\n",
       "       [246.9577 ],\n",
       "       [248.06894],\n",
       "       [249.66217],\n",
       "       [251.2893 ],\n",
       "       [252.64362],\n",
       "       [253.7342 ],\n",
       "       [254.49783],\n",
       "       [255.5182 ],\n",
       "       [256.51443],\n",
       "       [257.98798],\n",
       "       [259.42703],\n",
       "       [260.85596],\n",
       "       [262.3132 ],\n",
       "       [264.30762],\n",
       "       [265.90677],\n",
       "       [267.4082 ],\n",
       "       [268.49457],\n",
       "       [269.79205],\n",
       "       [271.67453],\n",
       "       [273.59354],\n",
       "       [275.99756],\n",
       "       [277.7741 ],\n",
       "       [278.93533],\n",
       "       [280.10666],\n",
       "       [281.4724 ],\n",
       "       [282.4814 ],\n",
       "       [283.34863],\n",
       "       [284.1972 ],\n",
       "       [284.8155 ],\n",
       "       [284.2476 ],\n",
       "       [284.27448],\n",
       "       [285.19943],\n",
       "       [286.29456],\n",
       "       [285.77335],\n",
       "       [284.65714],\n",
       "       [284.5335 ],\n",
       "       [285.05273],\n",
       "       [286.18146],\n",
       "       [286.83597],\n",
       "       [287.41202],\n",
       "       [287.6478 ],\n",
       "       [288.5444 ],\n",
       "       [289.2853 ],\n",
       "       [289.89493],\n",
       "       [289.71796],\n",
       "       [289.77725],\n",
       "       [289.5245 ],\n",
       "       [288.4185 ],\n",
       "       [285.54102],\n",
       "       [281.3069 ],\n",
       "       [277.61142],\n",
       "       [272.51715],\n",
       "       [267.62903],\n",
       "       [266.22137],\n",
       "       [265.30472],\n",
       "       [266.28745],\n",
       "       [266.79697],\n",
       "       [266.68823],\n",
       "       [263.846  ],\n",
       "       [262.4216 ]], dtype=float32)"
      ]
     },
     "execution_count": 14,
     "metadata": {},
     "output_type": "execute_result"
    }
   ],
   "source": [
    "#Getting the models predicted price values\n",
    "predictions = model.predict(x_test) #Getting the models predicted price values\n",
    "predictions = scaler.inverse_transform(predictions) #Undo the scaling\n",
    "predictions"
   ]
  },
  {
   "cell_type": "code",
   "execution_count": 15,
   "metadata": {
    "colab": {
     "base_uri": "https://localhost:8080/",
     "height": 34
    },
    "colab_type": "code",
    "id": "HQJFsQDJnYmn",
    "outputId": "a74ed7f4-9069-4975-a965-d0c17e3607e2"
   },
   "outputs": [
    {
     "data": {
      "text/plain": [
       "17.2344738547777"
      ]
     },
     "execution_count": 15,
     "metadata": {},
     "output_type": "execute_result"
    }
   ],
   "source": [
    "#Get the root mean squared error (rmse)\n",
    "#RMSE is a good measure of how accurately the model predicts the response\n",
    "#(RMSE) is the standard deviation of the residuals (prediction errors).\n",
    "#Lower values of RMSE indicate better fit. \n",
    "#Usually you want to evaluate your model with other metrics as well to truly get an idea of how well your model performs.\n",
    "\n",
    "#Calculate/Get the value of RMSE\n",
    "rmse=np.sqrt(np.mean((predictions- y_test)**2))\n",
    "rmse"
   ]
  },
  {
   "cell_type": "code",
   "execution_count": 16,
   "metadata": {
    "colab": {
     "base_uri": "https://localhost:8080/",
     "height": 681
    },
    "colab_type": "code",
    "id": "4MkIDy0fng03",
    "outputId": "39dcea0c-13ae-43e6-9ac3-a80a5a6b1e7e"
   },
   "outputs": [
    {
     "name": "stderr",
     "output_type": "stream",
     "text": [
      "C:\\Users\\dell\\Anaconda3\\lib\\site-packages\\ipykernel_launcher.py:4: SettingWithCopyWarning: \n",
      "A value is trying to be set on a copy of a slice from a DataFrame.\n",
      "Try using .loc[row_indexer,col_indexer] = value instead\n",
      "\n",
      "See the caveats in the documentation: http://pandas.pydata.org/pandas-docs/stable/user_guide/indexing.html#returning-a-view-versus-a-copy\n",
      "  after removing the cwd from sys.path.\n"
     ]
    },
    {
     "data": {
      "image/png": "[encoded data removed]",
      "text/plain": [
       "<Figure size 1152x576 with 1 Axes>"
      ]
     },
     "metadata": {
      "needs_background": "light"
     },
     "output_type": "display_data"
    }
   ],
   "source": [
    "#Plot the data\n",
    "train = data[:training_data_len] # A dataframe to get rows from index 0 to 1602 (1603 rows total)\n",
    "valid = data[training_data_len:] # A dataframe to get rows from index 1603 to the end of the list \n",
    "valid['Predictions'] = predictions #Create a new column called 'Predictions' that will hold the predicted prices\n",
    "\n",
    "#Visualize the data\n",
    "plt.figure(figsize=(16,8))\n",
    "plt.title('Model')\n",
    "plt.xlabel('Date',fontsize=18)\n",
    "plt.ylabel('Close Price USD ($)',fontsize=18)\n",
    "plt.plot(train['Close'])\n",
    "plt.plot(valid[['Close','Predictions']])\n",
    "plt.legend(['Train', 'Val', 'Prediction' ], loc='lower right')\n",
    "plt.show()"
   ]
  },
  {
   "cell_type": "code",
   "execution_count": 17,
   "metadata": {
    "colab": {
     "base_uri": "https://localhost:8080/",
     "height": 448
    },
    "colab_type": "code",
    "id": "6DFcVnwIllSB",
    "outputId": "d9380dab-82bc-45b4-976d-1c2b0a71653f"
   },
   "outputs": [
    {
     "data": {
      "text/html": [
       "<div>\n",
       "<style scoped>\n",
       "    .dataframe tbody tr th:only-of-type {\n",
       "        vertical-align: middle;\n",
       "    }\n",
       "\n",
       "    .dataframe tbody tr th {\n",
       "        vertical-align: top;\n",
       "    }\n",
       "\n",
       "    .dataframe thead th {\n",
       "        text-align: right;\n",
       "    }\n",
       "</style>\n",
       "<table border=\"1\" class=\"dataframe\">\n",
       "  <thead>\n",
       "    <tr style=\"text-align: right;\">\n",
       "      <th></th>\n",
       "      <th>Close</th>\n",
       "      <th>Predictions</th>\n",
       "    </tr>\n",
       "    <tr>\n",
       "      <th>Date</th>\n",
       "      <th></th>\n",
       "      <th></th>\n",
       "    </tr>\n",
       "  </thead>\n",
       "  <tbody>\n",
       "    <tr>\n",
       "      <td>2018-07-23</td>\n",
       "      <td>191.610001</td>\n",
       "      <td>182.487747</td>\n",
       "    </tr>\n",
       "    <tr>\n",
       "      <td>2018-07-24</td>\n",
       "      <td>193.000000</td>\n",
       "      <td>182.661224</td>\n",
       "    </tr>\n",
       "    <tr>\n",
       "      <td>2018-07-25</td>\n",
       "      <td>194.820007</td>\n",
       "      <td>182.948807</td>\n",
       "    </tr>\n",
       "    <tr>\n",
       "      <td>2018-07-26</td>\n",
       "      <td>194.210007</td>\n",
       "      <td>183.445206</td>\n",
       "    </tr>\n",
       "    <tr>\n",
       "      <td>2018-07-27</td>\n",
       "      <td>190.979996</td>\n",
       "      <td>183.904861</td>\n",
       "    </tr>\n",
       "    <tr>\n",
       "      <td>...</td>\n",
       "      <td>...</td>\n",
       "      <td>...</td>\n",
       "    </tr>\n",
       "    <tr>\n",
       "      <td>2020-03-05</td>\n",
       "      <td>292.920013</td>\n",
       "      <td>266.287445</td>\n",
       "    </tr>\n",
       "    <tr>\n",
       "      <td>2020-03-06</td>\n",
       "      <td>289.029999</td>\n",
       "      <td>266.796967</td>\n",
       "    </tr>\n",
       "    <tr>\n",
       "      <td>2020-03-09</td>\n",
       "      <td>266.170013</td>\n",
       "      <td>266.688232</td>\n",
       "    </tr>\n",
       "    <tr>\n",
       "      <td>2020-03-10</td>\n",
       "      <td>285.339996</td>\n",
       "      <td>263.846008</td>\n",
       "    </tr>\n",
       "    <tr>\n",
       "      <td>2020-03-11</td>\n",
       "      <td>275.429993</td>\n",
       "      <td>262.421600</td>\n",
       "    </tr>\n",
       "  </tbody>\n",
       "</table>\n",
       "<p>412 rows × 2 columns</p>\n",
       "</div>"
      ],
      "text/plain": [
       "                 Close  Predictions\n",
       "Date                               \n",
       "2018-07-23  191.610001   182.487747\n",
       "2018-07-24  193.000000   182.661224\n",
       "2018-07-25  194.820007   182.948807\n",
       "2018-07-26  194.210007   183.445206\n",
       "2018-07-27  190.979996   183.904861\n",
       "...                ...          ...\n",
       "2020-03-05  292.920013   266.287445\n",
       "2020-03-06  289.029999   266.796967\n",
       "2020-03-09  266.170013   266.688232\n",
       "2020-03-10  285.339996   263.846008\n",
       "2020-03-11  275.429993   262.421600\n",
       "\n",
       "[412 rows x 2 columns]"
      ]
     },
     "execution_count": 17,
     "metadata": {},
     "output_type": "execute_result"
    }
   ],
   "source": [
    "#Show the valid/actual/close prices and predicted prices\n",
    "valid"
   ]
  },
  {
   "cell_type": "code",
   "execution_count": 18,
   "metadata": {
    "colab": {
     "base_uri": "https://localhost:8080/",
     "height": 34
    },
    "colab_type": "code",
    "id": "I7_Y_lBk9DwN",
    "outputId": "5ed6dbfb-fa93-4953-fa52-cf8c878ef7a9"
   },
   "outputs": [
    {
     "name": "stdout",
     "output_type": "stream",
     "text": [
      "[[251.28929]]\n"
     ]
    }
   ],
   "source": [
    "#Get the quote from '2012-01-01' to '2019-12-17' to predict the closing price for '2019-12-18'\n",
    "apple_quote = web.DataReader('AAPL', data_source='yahoo', start='2012-01-01', end='2019-12-17') \n",
    "\n",
    "#Create a new dataframe with only the 'Close' column\n",
    "new_df = apple_quote.filter(['Close']) \n",
    "#Get the last 60 rows of data from the stock/ aka get the past 60 days of the stock and convert it to an array and store it in a variable\n",
    "last_60_days = new_df[-60:].values \n",
    "\n",
    "#Transform the data to values between 0 and 1\n",
    "last_60_days_scaled  = scaler.transform(last_60_days) \n",
    "\n",
    "#Create an empty list\n",
    "X_test = [] \n",
    "#Append the data (the past 60 values to predict the 61st value)\n",
    "X_test.append(last_60_days_scaled) \n",
    "#Convert X_test to a numpy array so we can use it to test and make predictions using the LSTM model we created\n",
    "X_test = np.array(X_test) \n",
    "#Reshape the data\n",
    "X_test = np.reshape(X_test, (X_test.shape[0],X_test.shape[1],1))\n",
    "\n",
    "#Get the predicted scaled price\n",
    "pred_price = model.predict(X_test) \n",
    "#Undo the scaling\n",
    "pred_price = scaler.inverse_transform(pred_price) \n",
    "print(pred_price)#Print the predicted price\n",
    "\n"
   ]
  },
  {
   "cell_type": "code",
   "execution_count": 19,
   "metadata": {
    "colab": {
     "base_uri": "https://localhost:8080/",
     "height": 68
    },
    "colab_type": "code",
    "id": "eJODAiqfEpUg",
    "outputId": "138fb4c6-50aa-426b-f10f-55b32684fe65"
   },
   "outputs": [
    {
     "name": "stdout",
     "output_type": "stream",
     "text": [
      "Date\n",
      "2020-03-11    275.429993\n",
      "2020-03-11    275.429993\n",
      "Name: Close, dtype: float64\n"
     ]
    }
   ],
   "source": [
    "#Get the actual closing price for that day\n",
    "#from datetime import datetime\n",
    "today = '2020 - 03-12'\n",
    "#today = datetime.today().strftime('%Y-%m-%d') #Get todays date and format it in the form YYYY-MM-DD\n",
    "todays_price = web.DataReader('AAPL', data_source='yahoo', start=today, end=today) #Get the stock price for today\n",
    "print(todays_price['Close']) #Print the closing price of the stock for today"
   ]
  },
  {
   "cell_type": "code",
   "execution_count": null,
   "metadata": {},
   "outputs": [],
   "source": []
  },
  {
   "cell_type": "code",
   "execution_count": null,
   "metadata": {},
   "outputs": [],
   "source": []
  }
 ],
 "metadata": {
  "colab": {
   "name": "LSTM.ipynb",
   "provenance": []
  },
  "kernelspec": {
   "display_name": "Python 3",
   "language": "python",
   "name": "python3"
  },
  "language_info": {
   "codemirror_mode": {
    "name": "ipython",
    "version": 3
   },
   "file_extension": ".py",
   "mimetype": "text/x-python",
   "name": "python",
   "nbconvert_exporter": "python",
   "pygments_lexer": "ipython3",
   "version": "3.7.4"
  }
 },
 "nbformat": 4,
 "nbformat_minor": 1
}
